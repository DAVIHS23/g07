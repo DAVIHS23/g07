{
 "cells": [
  {
   "cell_type": "code",
   "execution_count": 1,
   "metadata": {},
   "outputs": [
    {
     "name": "stdout",
     "output_type": "stream",
     "text": [
      "The two CSV files have been joined and saved to C:/repo/davi/g07/data/merge_output.csv\n"
     ]
    }
   ],
   "source": [
    "import pandas as pd\n",
    "\n",
    "# Specify the paths to your CSV files\n",
    "csv_file_path1 = 'C:/repo/davi/g07/data/IQ_level.csv'\n",
    "csv_file_path2 = 'C:/repo/davi/g07/data/malnutrition_output.csv'\n",
    "\n",
    "# Specify the path to your output CSV file\n",
    "output_csv_file_path = 'C:/repo/davi/g07/data/merge_output.csv'\n",
    "\n",
    "# Read the CSV files into pandas DataFrames\n",
    "df1 = pd.read_csv(csv_file_path1)\n",
    "df2 = pd.read_csv(csv_file_path2)\n",
    "\n",
    "# Perform the join based on the \"Country\" column\n",
    "merged_df = pd.merge(df1, df2, on='Country', how='outer')\n",
    "\n",
    "# Write the merged data to a new CSV file\n",
    "merged_df.to_csv(output_csv_file_path, index=False, encoding='utf-8')\n",
    "\n",
    "print(f\"The two CSV files have been joined and saved to {output_csv_file_path}\")\n"
   ]
  }
 ],
 "metadata": {
  "kernelspec": {
   "display_name": "Python 3",
   "language": "python",
   "name": "python3"
  },
  "language_info": {
   "codemirror_mode": {
    "name": "ipython",
    "version": 3
   },
   "file_extension": ".py",
   "mimetype": "text/x-python",
   "name": "python",
   "nbconvert_exporter": "python",
   "pygments_lexer": "ipython3",
   "version": "3.10.11"
  }
 },
 "nbformat": 4,
 "nbformat_minor": 2
}
