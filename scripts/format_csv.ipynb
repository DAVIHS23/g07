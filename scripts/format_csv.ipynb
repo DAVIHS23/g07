{
 "cells": [
  {
   "cell_type": "markdown",
   "metadata": {},
   "source": []
  },
  {
   "cell_type": "code",
   "execution_count": 2,
   "metadata": {},
   "outputs": [
    {
     "name": "stdout",
     "output_type": "stream",
     "text": [
      "Output C:/repo/davi/g07/data/malnutrition_ouput.csv\n"
     ]
    }
   ],
   "source": [
    "import csv\n",
    "\n",
    "# Specify the path to your input CSV file\n",
    "csv_file_path = 'C:/repo/davi/g07/data/malnutrition.csv'\n",
    "\n",
    "# Specify the path to your output CSV file\n",
    "output_csv_file_path = 'C:/repo/davi/g07/data/malnutrition_output.csv'\n",
    "\n",
    "# Initialize lists to store extracted data\n",
    "countries = []\n",
    "years = []\n",
    "values = []\n",
    "\n",
    "# Read the CSV file\n",
    "with open(csv_file_path, newline='', encoding='utf-8') as csvfile:\n",
    "    reader = csv.reader(csvfile)\n",
    "\n",
    "    # Extract header and remove quotes\n",
    "    header = next(reader)\n",
    "    header = [item.strip('\"') for item in header]\n",
    "\n",
    "    # Iterate through each row\n",
    "    for row in reader:\n",
    "        country = row[0].strip('\"')\n",
    "\n",
    "        # Extract year and value starting from the 5th column\n",
    "        for i in range(4, len(header)):\n",
    "            year = header[i].strip('\"')\n",
    "            value = row[i].strip('\"') if i < len(row) else \"-\"\n",
    "\n",
    "            # Append the extracted data to lists\n",
    "            countries.append(country)\n",
    "            years.append(year)\n",
    "            values.append(value)\n",
    "\n",
    "# Write the extracted data to a new CSV file\n",
    "with open(output_csv_file_path, 'w', newline='', encoding='utf-8') as csvfile:\n",
    "    writer = csv.writer(csvfile)\n",
    "\n",
    "    # Write header\n",
    "    writer.writerow([\"Country\", \"Year\", \"Value\"])\n",
    "\n",
    "    # Write data rows\n",
    "    for country, year, value in zip(countries, years, values):\n",
    "        writer.writerow([country, year, value])\n",
    "\n",
    "print(f\"Output {output_csv_file_path}\")\n"
   ]
  }
 ],
 "metadata": {
  "kernelspec": {
   "display_name": "Python 3",
   "language": "python",
   "name": "python3"
  },
  "language_info": {
   "codemirror_mode": {
    "name": "ipython",
    "version": 3
   },
   "file_extension": ".py",
   "mimetype": "text/x-python",
   "name": "python",
   "nbconvert_exporter": "python",
   "pygments_lexer": "ipython3",
   "version": "3.10.11"
  }
 },
 "nbformat": 4,
 "nbformat_minor": 2
}
